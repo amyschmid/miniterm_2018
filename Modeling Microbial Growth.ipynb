{
 "cells": [
  {
   "cell_type": "markdown",
   "metadata": {},
   "source": [
    "# Modeling Microbial Growth\n",
    "## NCSSM Mini-term Feb. 2018\n",
    "### Prepared by Cullen J.N. Roth | Magwene Lab "
   ]
  },
  {
   "cell_type": "markdown",
   "metadata": {},
   "source": [
    "# 1. Load modules and write functions for analysis of growth"
   ]
  },
  {
   "cell_type": "markdown",
   "metadata": {},
   "source": [
    "## 1.1 Import needed modules"
   ]
  },
  {
   "cell_type": "code",
   "execution_count": null,
   "metadata": {
    "collapsed": true,
    "nbpresent": {
     "id": "4cfe851c-5601-44ed-bccf-202e267ad5d8"
    },
    "slideshow": {
     "slide_type": "-"
    }
   },
   "outputs": [],
   "source": [
    "import numpy as np ## Numpy is a useful family of functions in python for basic analysis\n",
    "import pandas as pd ## Pandas is a groupof functions for loading in files and manipulate dataframes\n",
    "from matplotlib import pyplot as plt ## Matplotib allows us to make pretty figures\n",
    "from scipy.optimize import curve_fit ## The curve fit ftn allows us to fit curves"
   ]
  },
  {
   "cell_type": "markdown",
   "metadata": {},
   "source": [
    "###### This line of code below allows us to plot within the notebook"
   ]
  },
  {
   "cell_type": "code",
   "execution_count": null,
   "metadata": {
    "collapsed": true
   },
   "outputs": [],
   "source": [
    "%matplotlib inline"
   ]
  },
  {
   "cell_type": "markdown",
   "metadata": {
    "nbpresent": {
     "id": "29ec7c02-aeab-4b31-ab02-7c608823c842"
    },
    "slideshow": {
     "slide_type": "slide"
    }
   },
   "source": [
    "## 1.2 Functions for analysis of microbial growth curves.\n",
    "### Here we will define the growth models used in our analysis. These were taken from Zwietering et al 1990 (see table 2). Below we have defined the functions in terms of the growing capacity (A), the maximum growth rate (u) and the lag time (l). "
   ]
  },
  {
   "cell_type": "code",
   "execution_count": null,
   "metadata": {
    "collapsed": true,
    "nbpresent": {
     "id": "76f943b3-cd0f-4328-a514-f1283e603513"
    },
    "slideshow": {
     "slide_type": "slide"
    }
   },
   "outputs": [],
   "source": [
    "def logistic(t,A,u,l):\n",
    "    \"\"\"Logistic growth equation\"\"\"\n",
    "    y = A/(1+np.exp(((4*u/A)*(l - t)) + 2))\n",
    "    return y\n",
    "\n",
    "def gompertz(t,A,u,l):\n",
    "    \"\"\"Gompertz growth equation\"\"\"\n",
    "    y = A * np.exp(-np.exp(((u*np.exp(1)/A)*(l-t))+1))\n",
    "    return y\n",
    "\n",
    "def log_linear(x, a, b):\n",
    "    \"\"\"Linear logistic regression\"\"\"\n",
    "    y = np.exp(a + (b*x));\n",
    "    return y\n",
    "\n",
    "def r_squared(y,y_approx):\n",
    "    \"\"\"Calculates the coefficent of determination\"\"\"\n",
    "    residuals = y - y_approx;\n",
    "    ss_res = np.sum(residuals**2);\n",
    "    ss_tot = np.sum((y-np.mean(y))**2);\n",
    "    return 1.0 - (ss_res / ss_tot)"
   ]
  },
  {
   "cell_type": "markdown",
   "metadata": {},
   "source": [
    "### 1.2.1\n",
    "##### Above, I've included the gompertz function, yet there are a few other growth models in Zwietering et al 1990. Can you write your own grwoth model function or one of those included in Zwietering et al 1990?"
   ]
  },
  {
   "cell_type": "markdown",
   "metadata": {},
   "source": [
    "# 2. Setting variables and parameters"
   ]
  },
  {
   "cell_type": "markdown",
   "metadata": {},
   "source": [
    "#### For the gompertz growth model below we will display the results and curves for various growth paramaters."
   ]
  },
  {
   "cell_type": "markdown",
   "metadata": {},
   "source": [
    "## 2.1 Generate an array of time values \n",
    "#### Growth data is usually collected as some function of time. Don't forget units may matter! Here we are defining an array of time points in hours."
   ]
  },
  {
   "cell_type": "code",
   "execution_count": null,
   "metadata": {},
   "outputs": [],
   "source": [
    "time = np.arange(0,42); ## What does np.arange do?\n",
    "print time[:5] ## Print the first 5 time points\n",
    "print len(time) ## make sure there are 42 values (hours)"
   ]
  },
  {
   "cell_type": "markdown",
   "metadata": {},
   "source": [
    "### 2.1.1\n",
    "##### How could we change the code above to get 72 (hours) time points?\n",
    "### 2.1.2\n",
    "##### How could we change the code above to convert the units of our time points from hours to minutes?"
   ]
  },
  {
   "cell_type": "markdown",
   "metadata": {},
   "source": [
    "## 2.2 Set parameters of growth model"
   ]
  },
  {
   "cell_type": "markdown",
   "metadata": {},
   "source": [
    "#### Recall that our growth models need three parameters, A, u and l. \n",
    "### 2.2.1\n",
    "##### What do these parameters, A, u, and l represent?"
   ]
  },
  {
   "cell_type": "code",
   "execution_count": null,
   "metadata": {
    "collapsed": true
   },
   "outputs": [],
   "source": [
    "A = [0.25, 0.5, 0.75] ## Set 3 different values for the carrying capacity\n",
    "u = [0.01, 0.05, 0.09] ## ... the max growth rate\n",
    "l = [20, 10, 5.0] ## ... and the lag (in hours)"
   ]
  },
  {
   "cell_type": "markdown",
   "metadata": {},
   "source": [
    "###### If we changed our units of time above from hours (to say minutes) be sure to change the units of lag. "
   ]
  },
  {
   "cell_type": "markdown",
   "metadata": {},
   "source": [
    "# 3. Calculate values from Growth (Gompertz) model"
   ]
  },
  {
   "cell_type": "markdown",
   "metadata": {},
   "source": [
    "#### Below we will feed into the gompertz growth function our values of A, u, l above. "
   ]
  },
  {
   "cell_type": "markdown",
   "metadata": {},
   "source": [
    "## 3.1 Calling the growth function"
   ]
  },
  {
   "cell_type": "code",
   "execution_count": null,
   "metadata": {
    "collapsed": true
   },
   "outputs": [],
   "source": [
    "Y1 = gompertz(time,A[0],u[0],l[0]); ## Here we feed into our gompertz function the values of A, u, and l.\n",
    "Y2 = gompertz(time,A[1],u[1],l[1]);\n",
    "Y3 = gompertz(time,A[2],u[2],l[2]); ## What do these values return to you?"
   ]
  },
  {
   "cell_type": "markdown",
   "metadata": {},
   "source": [
    "### 3.1.1\n",
    "##### For our other growth models how would we call them as we did above for the gompertz growth functions?"
   ]
  },
  {
   "cell_type": "markdown",
   "metadata": {},
   "source": [
    "## 3.2 Display our Gompertz growth curves"
   ]
  },
  {
   "cell_type": "markdown",
   "metadata": {},
   "source": [
    "### Make some figures! "
   ]
  },
  {
   "cell_type": "code",
   "execution_count": null,
   "metadata": {},
   "outputs": [],
   "source": [
    "plt.plot(time,Y1,'red'); ## Plot models\n",
    "plt.plot(time,Y2,'orange');\n",
    "plt.plot(time,Y3,'olive');\n",
    "plt.ylim(-0.1,1); ## Set y limits\n",
    "plt.title('Gompertz Growth Models',fontsize=18); ## add title and labels\n",
    "plt.xlabel('Time \\n( hrs )',fontsize=14);\n",
    "plt.ylabel('Growth \\n( a.u. )',fontsize=14);"
   ]
  },
  {
   "cell_type": "markdown",
   "metadata": {},
   "source": [
    "### You can set your own parameters for growth equations in the cells above. \n",
    "### Play around with these models and parameters and make various figures. \n",
    "### 3.2.1\n",
    "##### What happens when we have longer or shorter lag times but the same values for A (carrygin capacity) and u (max growth rate)? \n",
    "### 3.2.2\n",
    "##### What happens when we have faster growth rates but similar l (lag) and A (carrying capacity)? \n",
    "### 3.2.3\n",
    "##### If A, the carrying capacity, is large, is it possible to reach this value if we have only have 48 hours?\n",
    "### 3.2.4\n",
    "##### What do these curves look like for the logistic equation and log-linear regression, with and without similar values for A, u, and l?"
   ]
  },
  {
   "cell_type": "markdown",
   "metadata": {
    "nbpresent": {
     "id": "2cbc81b8-92e9-402b-a2b7-f861cb3a72ca"
    },
    "slideshow": {
     "slide_type": "slide"
    }
   },
   "source": [
    "# 4 Data Importation & Manipulation"
   ]
  },
  {
   "cell_type": "markdown",
   "metadata": {
    "collapsed": true,
    "nbpresent": {
     "id": "2c12cc80-fe34-471b-a75c-a81e12417066"
    }
   },
   "source": [
    "## 4.1 Bring in the data with pandas"
   ]
  },
  {
   "cell_type": "markdown",
   "metadata": {},
   "source": [
    "### Here we are bringing in \"test_data\" from a previous class.\n",
    "### pandas takes in a path to the data as input (You will need to download this data). You may need to change this path for your computer"
   ]
  },
  {
   "cell_type": "code",
   "execution_count": null,
   "metadata": {
    "collapsed": true,
    "nbpresent": {
     "id": "5ab39765-10f5-4c85-bc49-97c3ff01a4a7"
    }
   },
   "outputs": [],
   "source": [
    "plate = pd.read_excel('test_data.xlsx',skiprows=1) "
   ]
  },
  {
   "cell_type": "markdown",
   "metadata": {
    "nbpresent": {
     "id": "8ba74555-bbe5-4afd-ba29-6c3f93eb2feb"
    }
   },
   "source": [
    "## 4.2 See first few (5) rows of data"
   ]
  },
  {
   "cell_type": "markdown",
   "metadata": {},
   "source": [
    "### Use the pandas function .head() to see the first 5 rows of data"
   ]
  },
  {
   "cell_type": "code",
   "execution_count": null,
   "metadata": {
    "nbpresent": {
     "id": "d5b9d56a-928d-485e-abae-c85611210311"
    },
    "slideshow": {
     "slide_type": "slide"
    }
   },
   "outputs": [],
   "source": [
    "plate.head()"
   ]
  },
  {
   "cell_type": "markdown",
   "metadata": {},
   "source": [
    "## 4.3 Transpose functions\n",
    "#### Much like the .head() function, other functions on pandas dataframes such as the transpose (.T) can be used"
   ]
  },
  {
   "cell_type": "code",
   "execution_count": null,
   "metadata": {},
   "outputs": [],
   "source": [
    "plate.T"
   ]
  },
  {
   "cell_type": "markdown",
   "metadata": {},
   "source": [
    "### 4.3.1\n",
    "##### What column (or row) in the dataframe above contains the time points, what units are these time points in, and how many are there?\n",
    "### 4.3.2\n",
    "##### What information does the function len() give you? Try typing in ?len() in a cell\n",
    "### 4.3.3\n",
    "##### Using the len() or .shape() functions how many test samples (not time points) are in the data?"
   ]
  },
  {
   "cell_type": "markdown",
   "metadata": {
    "nbpresent": {
     "id": "185294fc-5067-44bb-99c7-270e84a14306"
    }
   },
   "source": [
    "# 5 Analysis of test data"
   ]
  },
  {
   "cell_type": "markdown",
   "metadata": {},
   "source": [
    "## 5.1 Baseline data\n",
    "### The first time point is often subtracted to account for the differences in the initial inoculation. We can correct for the initial culture size by subtracting this value."
   ]
  },
  {
   "cell_type": "code",
   "execution_count": null,
   "metadata": {
    "collapsed": true
   },
   "outputs": [],
   "source": [
    "sample = 'test1' ## Set the sample for analysis\n",
    "ydata = plate[sample].values ## Take the sample values out of the dataframe and convert to an array\n",
    "ydata = ydata - ydata[0] ## Subtract the initial values \n",
    "xdata = plate['(hrs)'].values ## Collect time points"
   ]
  },
  {
   "cell_type": "markdown",
   "metadata": {},
   "source": [
    "## 5.2 Utilize the curve_fit function to fit growth models to our data"
   ]
  },
  {
   "cell_type": "markdown",
   "metadata": {},
   "source": [
    "### 5.2.1\n",
    "##### What does curve_fit do (you can check by typing in ?curve_fit in a cell)?"
   ]
  },
  {
   "cell_type": "markdown",
   "metadata": {},
   "source": [
    "#### The function curve_fit is not perfect. It can have trouble dealing with small values like ours. To avoid overflow errors we can scale our values between zero and one by normilizing via the maximum and re-scaling our parameters after fitting curves."
   ]
  },
  {
   "cell_type": "code",
   "execution_count": null,
   "metadata": {},
   "outputs": [],
   "source": [
    "scale = max(ydata) ## Collect the max y-value for this sample\n",
    "popt_gom, pcov_gom = curve_fit(gompertz, xdata, ydata/scale); ## Here we are deviding the y-values by the maximum\n",
    "popt_gom[:2] = popt_gom[:2] * scale ## We need to rescale the carrying capacity and maximum growth rate (but not lag)\n",
    "print popt_gom"
   ]
  },
  {
   "cell_type": "markdown",
   "metadata": {},
   "source": [
    "## 5.3 Calculate the approximation from our curve fitting"
   ]
  },
  {
   "cell_type": "code",
   "execution_count": null,
   "metadata": {
    "collapsed": true,
    "nbpresent": {
     "id": "4944b4b6-3210-4158-ad05-2771673c967a"
    }
   },
   "outputs": [],
   "source": [
    "yhat_gom = gompertz(xdata,*popt_gom) ## here we are putting into gompertz the values from popt_gom"
   ]
  },
  {
   "cell_type": "markdown",
   "metadata": {},
   "source": [
    "### 5.3.1\n",
    "##### What does the \"*\" symbol do to the variable popt_gom?"
   ]
  },
  {
   "cell_type": "markdown",
   "metadata": {},
   "source": [
    "## 5.4 Calculate the coefficient of determenation"
   ]
  },
  {
   "cell_type": "code",
   "execution_count": null,
   "metadata": {},
   "outputs": [],
   "source": [
    "print \"R2 Gompertz:\", round(r_squared(ydata,yhat_gom),3)"
   ]
  },
  {
   "cell_type": "markdown",
   "metadata": {},
   "source": [
    "## 5.5 Plot our data and fit"
   ]
  },
  {
   "cell_type": "code",
   "execution_count": null,
   "metadata": {
    "nbpresent": {
     "id": "a8e4a1cd-01a5-4289-a79a-049d8a5ecdcc"
    },
    "slideshow": {
     "slide_type": "slide"
    }
   },
   "outputs": [],
   "source": [
    "plt.plot(xdata, ydata, '.k', label='Data',alpha=.5); ## Plot sample data\n",
    "plt.plot(xdata, yhat_gom,'-g', label='Gompertz',alpha=.9); ## Plot growth model\n",
    "plt.annotate(\"u: \" + str(round(popt_gom[1],3)),(20,.15)); ## Add in text with the calculated parameters (u)\n",
    "plt.annotate(\"A: \" + str(round(popt_gom[0],3)),(xdata[-10],popt_gom[0]+.01)); ## ... for A\n",
    "plt.annotate(\"l: \" + str(round(popt_gom[-1],3)),(popt_gom[-1],0)); ## ... for l \n",
    "plt.ylabel('Optical Density\\n( a.u. )',fontsize=14); ## Add titles, legends, and labels \n",
    "plt.xlabel('Time \\n( hrs )',fontsize=14); ## Add x axis label\n",
    "plt.title('Gompertz Fit & Test Data',fontsize=16); ## Add y axis label\n",
    "plt.legend(loc='lower right'); ## Place the legend in lower right corner\n",
    "plt.tight_layout(); ## This makes everything pretty\n",
    "plt.savefig('Fit_to_growth.jpeg'); ## This will save the figure"
   ]
  },
  {
   "cell_type": "markdown",
   "metadata": {},
   "source": [
    "### 5.5.1\n",
    "##### What about the other samples in the data set; can you run our analysis and plot more than one sample on a figure or sub-figures? \n",
    "Hint: check out plt.subplots()\n",
    "### 5.5.2\n",
    "##### Explore the other models introduced in class and written above, for a given sample do we see differences in the estimated parameters from different models?\n",
    "### 5.5.3\n",
    "##### From the question above, for a given sample, plot on the same figure the gompertz and logistic growth models."
   ]
  },
  {
   "cell_type": "code",
   "execution_count": null,
   "metadata": {
    "collapsed": true
   },
   "outputs": [],
   "source": []
  }
 ],
 "metadata": {
  "anaconda-cloud": {},
  "kernelspec": {
   "display_name": "Python 2",
   "language": "python",
   "name": "python2"
  },
  "language_info": {
   "codemirror_mode": {
    "name": "ipython",
    "version": 2
   },
   "file_extension": ".py",
   "mimetype": "text/x-python",
   "name": "python",
   "nbconvert_exporter": "python",
   "pygments_lexer": "ipython2",
   "version": "2.7.14"
  },
  "nbpresent": {
   "slides": {
    "04a8ef55-cb2b-40ad-9cbf-d4c15360b582": {
     "id": "04a8ef55-cb2b-40ad-9cbf-d4c15360b582",
     "prev": "20cca71b-72ac-4d25-a903-f169693356c3",
     "regions": {
      "081ffe39-a147-4498-824b-367ee1d9a66d": {
       "attrs": {
        "height": 0.8,
        "width": 0.8,
        "x": 0.1,
        "y": 0.1
       },
       "content": {
        "cell": "365b63cf-8c3f-40f2-a846-2d7171ee80d4",
        "part": "whole"
       },
       "id": "081ffe39-a147-4498-824b-367ee1d9a66d"
      }
     }
    },
    "056ef257-36c5-41f0-997a-1be11216384c": {
     "id": "056ef257-36c5-41f0-997a-1be11216384c",
     "prev": "a95430c6-5601-4eff-a6cb-b779b716cb3e",
     "regions": {
      "f2eca3c3-844f-4754-af51-310829110db9": {
       "attrs": {
        "height": 0.8,
        "width": 0.8,
        "x": 0.1,
        "y": 0.1
       },
       "content": {
        "cell": "23013f33-52ed-4efb-bd15-448283e20512",
        "part": "whole"
       },
       "id": "f2eca3c3-844f-4754-af51-310829110db9"
      }
     }
    },
    "13b2994e-7cec-4790-bf2e-6ce2c0bca77c": {
     "id": "13b2994e-7cec-4790-bf2e-6ce2c0bca77c",
     "prev": "da2dc6cc-4ec7-44a5-b9ff-c66d035bf65f",
     "regions": {
      "335bc144-d6aa-40ea-a9b1-d98fae56e847": {
       "attrs": {
        "height": 0.8,
        "width": 0.8,
        "x": 0.1,
        "y": 0.1
       },
       "content": {
        "cell": "60450a2f-4cf5-41fc-9798-bce4fb572da4",
        "part": "whole"
       },
       "id": "335bc144-d6aa-40ea-a9b1-d98fae56e847"
      }
     }
    },
    "20cca71b-72ac-4d25-a903-f169693356c3": {
     "id": "20cca71b-72ac-4d25-a903-f169693356c3",
     "prev": "3bf774b1-51f4-4471-a19c-fd581e8a6d23",
     "regions": {
      "2e7804ba-031b-4242-8c4c-a71f011dcf16": {
       "attrs": {
        "height": 0.8,
        "width": 0.8,
        "x": 0.1,
        "y": 0.1
       },
       "content": {
        "cell": "b0ee5a23-194d-43da-8995-a6d4c184d4be",
        "part": "whole"
       },
       "id": "2e7804ba-031b-4242-8c4c-a71f011dcf16"
      }
     }
    },
    "20ec2374-211c-4660-923b-ec47c400f51a": {
     "id": "20ec2374-211c-4660-923b-ec47c400f51a",
     "prev": "056ef257-36c5-41f0-997a-1be11216384c",
     "regions": {
      "6fa4d112-56b8-4e98-8478-7dabd894540b": {
       "attrs": {
        "height": 0.8,
        "width": 0.8,
        "x": 0.1,
        "y": 0.1
       },
       "content": {
        "cell": "f4b14b77-81c1-4f36-aa3c-48ff1b65f8e0",
        "part": "whole"
       },
       "id": "6fa4d112-56b8-4e98-8478-7dabd894540b"
      }
     }
    },
    "3bf774b1-51f4-4471-a19c-fd581e8a6d23": {
     "id": "3bf774b1-51f4-4471-a19c-fd581e8a6d23",
     "prev": "bbdf5f5e-0e81-4729-b655-cf9733209c5b",
     "regions": {
      "e34edd1a-d9e0-4e75-bae1-e83b1bdc4278": {
       "attrs": {
        "height": 0.8,
        "width": 0.8,
        "x": 0.1,
        "y": 0.1
       },
       "content": {
        "cell": "65c5efea-c8cc-4a62-b31a-b353c06ff887",
        "part": "whole"
       },
       "id": "e34edd1a-d9e0-4e75-bae1-e83b1bdc4278"
      }
     }
    },
    "40321d0c-bb0c-4e04-91ce-104ad94be804": {
     "id": "40321d0c-bb0c-4e04-91ce-104ad94be804",
     "prev": "73ca7296-dab0-4b96-93c3-db23fffc88b2",
     "regions": {
      "39626d59-7419-435f-83fb-4e2264f562a5": {
       "attrs": {
        "height": 0.8,
        "width": 0.8,
        "x": 0.1,
        "y": 0.1
       },
       "content": {
        "cell": "eb73388c-dc74-4434-9285-0276c8a5008e",
        "part": "whole"
       },
       "id": "39626d59-7419-435f-83fb-4e2264f562a5"
      }
     }
    },
    "43ff5f57-2c28-426b-9e0a-b7dfb8cd10e7": {
     "id": "43ff5f57-2c28-426b-9e0a-b7dfb8cd10e7",
     "prev": "04a8ef55-cb2b-40ad-9cbf-d4c15360b582",
     "regions": {
      "945bb407-635a-47a1-bba3-88dcaa73abce": {
       "attrs": {
        "height": 0.8,
        "width": 0.8,
        "x": 0.1,
        "y": 0.1
       },
       "content": {
        "cell": "5fbe74e0-2b1b-417e-bb14-5add60dfaf29",
        "part": "whole"
       },
       "id": "945bb407-635a-47a1-bba3-88dcaa73abce"
      }
     }
    },
    "4932b665-95fc-4987-9603-db7dc8942589": {
     "id": "4932b665-95fc-4987-9603-db7dc8942589",
     "prev": "40321d0c-bb0c-4e04-91ce-104ad94be804",
     "regions": {
      "905ccd9f-6d14-4a73-95e0-92ad6654dbe9": {
       "attrs": {
        "height": 0.8,
        "width": 0.8,
        "x": 0.1,
        "y": 0.1
       },
       "content": {
        "cell": "4944b4b6-3210-4158-ad05-2771673c967a",
        "part": "whole"
       },
       "id": "905ccd9f-6d14-4a73-95e0-92ad6654dbe9"
      }
     }
    },
    "60442b2d-3f9a-4cc9-b240-ff2b08d3b10b": {
     "id": "60442b2d-3f9a-4cc9-b240-ff2b08d3b10b",
     "prev": "20ec2374-211c-4660-923b-ec47c400f51a",
     "regions": {
      "0a1154ec-d36b-4b77-bd7a-1d7939b14f6f": {
       "attrs": {
        "height": 0.8,
        "width": 0.8,
        "x": 0.1,
        "y": 0.1
       },
       "content": {
        "cell": "7c25973b-0557-4069-b332-e15f12ee6955",
        "part": "whole"
       },
       "id": "0a1154ec-d36b-4b77-bd7a-1d7939b14f6f"
      }
     }
    },
    "69a2db50-fd37-428c-83f4-432e26cfbabd": {
     "id": "69a2db50-fd37-428c-83f4-432e26cfbabd",
     "prev": "13b2994e-7cec-4790-bf2e-6ce2c0bca77c",
     "regions": {
      "004bd45f-8b3e-4639-bfb1-91fbb594c2df": {
       "attrs": {
        "height": 0.8,
        "width": 0.8,
        "x": 0.1,
        "y": 0.1
       },
       "content": {
        "cell": "2542ce77-5045-4a38-83ca-1e42c1305a9a",
        "part": "whole"
       },
       "id": "004bd45f-8b3e-4639-bfb1-91fbb594c2df"
      }
     }
    },
    "73ca7296-dab0-4b96-93c3-db23fffc88b2": {
     "id": "73ca7296-dab0-4b96-93c3-db23fffc88b2",
     "prev": "43ff5f57-2c28-426b-9e0a-b7dfb8cd10e7",
     "regions": {
      "e364f12c-644b-4396-894a-99d15f0e1110": {
       "attrs": {
        "height": 0.8,
        "width": 0.8,
        "x": 0.1,
        "y": 0.1
       },
       "content": {
        "cell": "92521715-b4a5-4408-a924-64501222417f",
        "part": "whole"
       },
       "id": "e364f12c-644b-4396-894a-99d15f0e1110"
      }
     }
    },
    "a95430c6-5601-4eff-a6cb-b779b716cb3e": {
     "id": "a95430c6-5601-4eff-a6cb-b779b716cb3e",
     "prev": "69a2db50-fd37-428c-83f4-432e26cfbabd",
     "regions": {
      "402678a5-1ea0-4564-bf64-66078767cd2c": {
       "attrs": {
        "height": 0.8,
        "width": 0.8,
        "x": 0.1,
        "y": 0.1
       },
       "content": null,
       "id": "402678a5-1ea0-4564-bf64-66078767cd2c"
      }
     }
    },
    "bbdf5f5e-0e81-4729-b655-cf9733209c5b": {
     "id": "bbdf5f5e-0e81-4729-b655-cf9733209c5b",
     "prev": null,
     "regions": {
      "2c031084-6275-42e2-924d-55090ec0bcb6": {
       "attrs": {
        "height": 0.8,
        "width": 0.8,
        "x": 0.1,
        "y": 0.1
       },
       "content": {
        "cell": "55ca9868-afad-4f5a-bb3d-962969032bc1",
        "part": "whole"
       },
       "id": "2c031084-6275-42e2-924d-55090ec0bcb6"
      }
     }
    },
    "da2dc6cc-4ec7-44a5-b9ff-c66d035bf65f": {
     "id": "da2dc6cc-4ec7-44a5-b9ff-c66d035bf65f",
     "prev": "4932b665-95fc-4987-9603-db7dc8942589",
     "regions": {
      "184b699d-2d42-46bf-b58f-50f5a8e3883e": {
       "attrs": {
        "height": 0.8,
        "width": 0.8,
        "x": 0.1,
        "y": 0.1
       },
       "content": {
        "cell": "a8e4a1cd-01a5-4289-a79a-049d8a5ecdcc",
        "part": "whole"
       },
       "id": "184b699d-2d42-46bf-b58f-50f5a8e3883e"
      }
     }
    }
   },
   "themes": {}
  }
 },
 "nbformat": 4,
 "nbformat_minor": 1
}

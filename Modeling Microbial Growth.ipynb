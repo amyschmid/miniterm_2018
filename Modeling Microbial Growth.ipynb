{
 "cells": [
  {
   "cell_type": "markdown",
   "metadata": {},
   "source": [
    "# Modeling Microbial Growth\n",
    "## NCSSM Mini-term Feb. 2018\n",
    "### Prepared by Cullen Jon N. Roth | Magwene Lab "
   ]
  },
  {
   "cell_type": "markdown",
   "metadata": {},
   "source": [
    "# 1. Load modules and write functions for analysis of growth"
   ]
  },
  {
   "cell_type": "markdown",
   "metadata": {},
   "source": [
    "## 1.1 Import needed modules"
   ]
  },
  {
   "cell_type": "code",
   "execution_count": 1,
   "metadata": {
    "collapsed": true,
    "nbpresent": {
     "id": "4cfe851c-5601-44ed-bccf-202e267ad5d8"
    },
    "slideshow": {
     "slide_type": "-"
    }
   },
   "outputs": [],
   "source": [
    "import numpy as np ## Numpy is a useful family of functions in python for basic analysis\n",
    "import pandas as pd ## Pandas is a groupof functions for loading in files and manipulate dataframes\n",
    "from matplotlib import pyplot as plt ## Matplotib allows us to make pretty figures\n",
    "from scipy.optimize import curve_fit ## The curve fit ftn allows us to fit curves"
   ]
  },
  {
   "cell_type": "markdown",
   "metadata": {},
   "source": [
    "###### This line of code below allows us to plot within the notebook"
   ]
  },
  {
   "cell_type": "code",
   "execution_count": 2,
   "metadata": {
    "collapsed": true
   },
   "outputs": [],
   "source": [
    "%matplotlib inline"
   ]
  },
  {
   "cell_type": "markdown",
   "metadata": {
    "nbpresent": {
     "id": "29ec7c02-aeab-4b31-ab02-7c608823c842"
    },
    "slideshow": {
     "slide_type": "slide"
    }
   },
   "source": [
    "## 1.2 Functions for analysis of microbial growth curves.\n",
    "### Here we will define the growth models used in our analysis. These were taken from Zwietering et al 1990 (see table 2). Below we have defined the functions in terms of the growing capacity (A), the maximum growth rate (u) and the lag time (l). "
   ]
  },
  {
   "cell_type": "code",
   "execution_count": 3,
   "metadata": {},
   "outputs": [
    {
     "name": "stdout",
     "output_type": "stream",
     "text": [
      "CPU times: user 7 µs, sys: 1 µs, total: 8 µs\n",
      "Wall time: 16 µs\n"
     ]
    }
   ],
   "source": [
    "time"
   ]
  },
  {
   "cell_type": "code",
   "execution_count": 4,
   "metadata": {
    "collapsed": true,
    "nbpresent": {
     "id": "76f943b3-cd0f-4328-a514-f1283e603513"
    },
    "slideshow": {
     "slide_type": "slide"
    }
   },
   "outputs": [],
   "source": [
    "def logistic(t,A,u,l):\n",
    "    \"\"\"Logistic growth equation\"\"\"\n",
    "    y = A/(1+np.exp(((4*u/A)*(l - t)) + 2))\n",
    "    return y\n",
    "\n",
    "def gompertz(t,A,u,l):\n",
    "    \"\"\"Gompertz growth equation\"\"\"\n",
    "    y = A * np.exp(-np.exp(((u*np.exp(1)/A)*(l-t))+1))\n",
    "    return y\n",
    "\n",
    "def log_linear(x, a, b):\n",
    "    \"\"\"Linear logistic regression\"\"\"\n",
    "    y = np.exp(a + (b*x));\n",
    "    return y\n",
    "\n",
    "def r_squared(y,y_approx):\n",
    "    \"\"\"Calculates the coefficent of determination\"\"\"\n",
    "    residuals = y - y_approx;\n",
    "    ss_res = np.sum(residuals**2);\n",
    "    ss_tot = np.sum((y-np.mean(y))**2);\n",
    "    return 1.0 - (ss_res / ss_tot)"
   ]
  },
  {
   "cell_type": "markdown",
   "metadata": {},
   "source": [
    "### 1.2.1\n",
    "##### Above, I've included the gompertz function, yet there are a few other growth models in Zwietering et al 1990. Can you write your own grwoth model function or one of those included in Zwietering et al 1990?"
   ]
  },
  {
   "cell_type": "markdown",
   "metadata": {},
   "source": [
    "# 2. Setting variables and parameters"
   ]
  },
  {
   "cell_type": "markdown",
   "metadata": {},
   "source": [
    "#### For the gompertz growth model below we will display the results and curves for various growth paramaters."
   ]
  },
  {
   "cell_type": "markdown",
   "metadata": {},
   "source": [
    "## 2.1 Generate an array of time values \n",
    "#### Growth data is usually collected as some function of time. Don't forget units may matter! Here we are defining an array of time points in hours."
   ]
  },
  {
   "cell_type": "code",
   "execution_count": 5,
   "metadata": {},
   "outputs": [
    {
     "name": "stdout",
     "output_type": "stream",
     "text": [
      "[0 1 2 3 4]\n",
      "42\n"
     ]
    }
   ],
   "source": [
    "time = np.arange(0,42); ## What does np.arange do?\n",
    "print time[:5] ## Print the first 5 time points\n",
    "print len(time) ## make sure there are 42 values (hours)"
   ]
  },
  {
   "cell_type": "markdown",
   "metadata": {},
   "source": [
    "### 2.1.1\n",
    "##### How could we change the code above to get 72 (hours) time points?\n",
    "Your respose here\n",
    "### 2.1.2\n",
    "##### How could we change the code above to convert the units of our time points from hours to minutes?"
   ]
  },
  {
   "cell_type": "markdown",
   "metadata": {},
   "source": [
    "## 2.2 Set parameters of growth model"
   ]
  },
  {
   "cell_type": "markdown",
   "metadata": {},
   "source": [
    "#### Recall that our growth models need three parameters, A, u and l. \n",
    "### 2.2.1\n",
    "##### What do these parameters, A, u, and l represent?"
   ]
  },
  {
   "cell_type": "code",
   "execution_count": 6,
   "metadata": {
    "collapsed": true
   },
   "outputs": [],
   "source": [
    "A = [0.25, 0.5, 0.75] ## Set 3 different values for the carrying capacity\n",
    "u = [0.01, 0.05, 0.09] ## ... the max growth rate\n",
    "l = [20, 10, 5.0] ## ... and the lag (in hours)"
   ]
  },
  {
   "cell_type": "markdown",
   "metadata": {},
   "source": [
    "###### If we changed our units of time above from hours (to say minutes) be sure to change the units of lag. "
   ]
  },
  {
   "cell_type": "markdown",
   "metadata": {},
   "source": [
    "# 3. Calculate values from Growth (Gompertz) model"
   ]
  },
  {
   "cell_type": "markdown",
   "metadata": {},
   "source": [
    "#### Below we will feed into the gompertz growth function our values of A, u, l above. "
   ]
  },
  {
   "cell_type": "markdown",
   "metadata": {},
   "source": [
    "## 3.1 Calling the growth function"
   ]
  },
  {
   "cell_type": "code",
   "execution_count": 7,
   "metadata": {
    "collapsed": true
   },
   "outputs": [],
   "source": [
    "Y1 = gompertz(time,A[0],0.01*u[0],l[0]); ## Here we feed into our gompertz function the values of A, u, and l.\n",
    "Y2 = gompertz(time,A[1],u[1],l[1]);\n",
    "Y3 = gompertz(time,A[2],u[2],l[2]); ## What do these values return to you?"
   ]
  },
  {
   "cell_type": "markdown",
   "metadata": {},
   "source": [
    "### 3.1.1\n",
    "##### For our other growth models how would we call them as we did above for the gompertz growth functions?"
   ]
  },
  {
   "cell_type": "markdown",
   "metadata": {},
   "source": [
    "## 3.2 Display our Gompertz growth curves"
   ]
  },
  {
   "cell_type": "markdown",
   "metadata": {},
   "source": [
    "### Make some figures! "
   ]
  },
  {
   "cell_type": "code",
   "execution_count": 8,
   "metadata": {},
   "outputs": [
    {
     "data": {
      "image/png": "[encoded data removed]",
      "text/plain": [
       "<matplotlib.figure.Figure at 0x1507f31250>"
      ]
     },
     "metadata": {},
     "output_type": "display_data"
    }
   ],
   "source": [
    "plt.plot(time,Y1,'red'); ## Plot models\n",
    "plt.plot(time,Y2,'orange');\n",
    "plt.plot(time,Y3,'olive');\n",
    "plt.xlim(20,30)\n",
    "plt.ylim(.6,1); ## Set y limits\n",
    "plt.title('Gompertz Growth Models',fontsize=18); ## add title and labels\n",
    "plt.xlabel('Time \\n( hrs )',fontsize=14);\n",
    "plt.ylabel('Growth \\n( a.u. )',fontsize=14);"
   ]
  },
  {
   "cell_type": "markdown",
   "metadata": {},
   "source": [
    "### You can set your own parameters for growth equations in the cells above. \n",
    "### Play around with these models and parameters and make various figures. \n",
    "### 3.2.1\n",
    "##### What happens when we have longer or shorter lag times but the same values for A (carrygin capacity) and u (max growth rate)? \n",
    "### 3.2.2\n",
    "##### What happens when we have faster growth rates but similar l (lag) and A (carrying capacity)? \n",
    "### 3.2.3\n",
    "##### If A, the carrying capacity, is large, is it possible to reach this value if we have only have 48 hours?\n",
    "### 3.2.4\n",
    "##### What do these curves look like for the logistic equation and log-linear regression, with and without similar values for A, u, and l?"
   ]
  },
  {
   "cell_type": "markdown",
   "metadata": {
    "nbpresent": {
     "id": "2cbc81b8-92e9-402b-a2b7-f861cb3a72ca"
    },
    "slideshow": {
     "slide_type": "slide"
    }
   },
   "source": [
    "# 4 Data Importation & Manipulation"
   ]
  },
  {
   "cell_type": "markdown",
   "metadata": {
    "collapsed": true,
    "nbpresent": {
     "id": "2c12cc80-fe34-471b-a75c-a81e12417066"
    }
   },
   "source": [
    "## 4.1 Bring in the data with pandas"
   ]
  },
  {
   "cell_type": "markdown",
   "metadata": {},
   "source": [
    "### Here we are bringing in \"test_data\" from a previous class.\n",
    "### pandas takes in a path to the data as input (You will need to download this data). You may need to change this path for your computer"
   ]
  },
  {
   "cell_type": "code",
   "execution_count": 9,
   "metadata": {
    "collapsed": true,
    "nbpresent": {
     "id": "5ab39765-10f5-4c85-bc49-97c3ff01a4a7"
    }
   },
   "outputs": [],
   "source": [
    "plate = pd.read_excel('test_data.xlsx',skiprows=1) "
   ]
  },
  {
   "cell_type": "markdown",
   "metadata": {
    "nbpresent": {
     "id": "8ba74555-bbe5-4afd-ba29-6c3f93eb2feb"
    }
   },
   "source": [
    "## 4.2 See first few (5) rows of data"
   ]
  },
  {
   "cell_type": "markdown",
   "metadata": {},
   "source": [
    "### Use the pandas function .head() to see the first 5 rows of data"
   ]
  },
  {
   "cell_type": "code",
   "execution_count": 10,
   "metadata": {
    "nbpresent": {
     "id": "d5b9d56a-928d-485e-abae-c85611210311"
    },
    "slideshow": {
     "slide_type": "slide"
    }
   },
   "outputs": [
    {
     "data": {
      "text/html": [
       "<div>\n",
       "<style>\n",
       "    .dataframe thead tr:only-child th {\n",
       "        text-align: right;\n",
       "    }\n",
       "\n",
       "    .dataframe thead th {\n",
       "        text-align: left;\n",
       "    }\n",
       "\n",
       "    .dataframe tbody tr th {\n",
       "        vertical-align: top;\n",
       "    }\n",
       "</style>\n",
       "<table border=\"1\" class=\"dataframe\">\n",
       "  <thead>\n",
       "    <tr style=\"text-align: right;\">\n",
       "      <th></th>\n",
       "      <th>(hrs)</th>\n",
       "      <th>test1</th>\n",
       "      <th>test2</th>\n",
       "      <th>test3</th>\n",
       "      <th>test4</th>\n",
       "      <th>test5</th>\n",
       "      <th>test6</th>\n",
       "      <th>test7</th>\n",
       "      <th>test8</th>\n",
       "      <th>test9</th>\n",
       "    </tr>\n",
       "  </thead>\n",
       "  <tbody>\n",
       "    <tr>\n",
       "      <th>0</th>\n",
       "      <td>0.0</td>\n",
       "      <td>0.119</td>\n",
       "      <td>0.238</td>\n",
       "      <td>0.476</td>\n",
       "      <td>0.952</td>\n",
       "      <td>1.904</td>\n",
       "      <td>3.808</td>\n",
       "      <td>7.616</td>\n",
       "      <td>15.232</td>\n",
       "      <td>30.464</td>\n",
       "    </tr>\n",
       "    <tr>\n",
       "      <th>1</th>\n",
       "      <td>0.5</td>\n",
       "      <td>0.119</td>\n",
       "      <td>0.238</td>\n",
       "      <td>0.476</td>\n",
       "      <td>0.952</td>\n",
       "      <td>1.904</td>\n",
       "      <td>3.808</td>\n",
       "      <td>7.616</td>\n",
       "      <td>15.232</td>\n",
       "      <td>30.464</td>\n",
       "    </tr>\n",
       "    <tr>\n",
       "      <th>2</th>\n",
       "      <td>1.0</td>\n",
       "      <td>0.124</td>\n",
       "      <td>0.248</td>\n",
       "      <td>0.496</td>\n",
       "      <td>0.992</td>\n",
       "      <td>1.984</td>\n",
       "      <td>3.968</td>\n",
       "      <td>7.936</td>\n",
       "      <td>15.872</td>\n",
       "      <td>31.744</td>\n",
       "    </tr>\n",
       "    <tr>\n",
       "      <th>3</th>\n",
       "      <td>1.5</td>\n",
       "      <td>0.125</td>\n",
       "      <td>0.250</td>\n",
       "      <td>0.500</td>\n",
       "      <td>1.000</td>\n",
       "      <td>2.000</td>\n",
       "      <td>4.000</td>\n",
       "      <td>8.000</td>\n",
       "      <td>16.000</td>\n",
       "      <td>32.000</td>\n",
       "    </tr>\n",
       "    <tr>\n",
       "      <th>4</th>\n",
       "      <td>2.0</td>\n",
       "      <td>0.127</td>\n",
       "      <td>0.254</td>\n",
       "      <td>0.508</td>\n",
       "      <td>1.016</td>\n",
       "      <td>2.032</td>\n",
       "      <td>4.064</td>\n",
       "      <td>8.128</td>\n",
       "      <td>16.256</td>\n",
       "      <td>32.512</td>\n",
       "    </tr>\n",
       "  </tbody>\n",
       "</table>\n",
       "</div>"
      ],
      "text/plain": [
       "   (hrs)  test1  test2  test3  test4  test5  test6  test7   test8   test9\n",
       "0    0.0  0.119  0.238  0.476  0.952  1.904  3.808  7.616  15.232  30.464\n",
       "1    0.5  0.119  0.238  0.476  0.952  1.904  3.808  7.616  15.232  30.464\n",
       "2    1.0  0.124  0.248  0.496  0.992  1.984  3.968  7.936  15.872  31.744\n",
       "3    1.5  0.125  0.250  0.500  1.000  2.000  4.000  8.000  16.000  32.000\n",
       "4    2.0  0.127  0.254  0.508  1.016  2.032  4.064  8.128  16.256  32.512"
      ]
     },
     "execution_count": 10,
     "metadata": {},
     "output_type": "execute_result"
    }
   ],
   "source": [
    "plate.head()"
   ]
  },
  {
   "cell_type": "markdown",
   "metadata": {},
   "source": [
    "## 4.3 Transpose functions\n",
    "#### Much like the .head() function, other functions on pandas dataframes such as the transpose (.T) can be used"
   ]
  },
  {
   "cell_type": "code",
   "execution_count": 11,
   "metadata": {},
   "outputs": [
    {
     "data": {
      "text/html": [
       "<div>\n",
       "<style>\n",
       "    .dataframe thead tr:only-child th {\n",
       "        text-align: right;\n",
       "    }\n",
       "\n",
       "    .dataframe thead th {\n",
       "        text-align: left;\n",
       "    }\n",
       "\n",
       "    .dataframe tbody tr th {\n",
       "        vertical-align: top;\n",
       "    }\n",
       "</style>\n",
       "<table border=\"1\" class=\"dataframe\">\n",
       "  <thead>\n",
       "    <tr style=\"text-align: right;\">\n",
       "      <th></th>\n",
       "      <th>0</th>\n",
       "      <th>1</th>\n",
       "      <th>2</th>\n",
       "      <th>3</th>\n",
       "      <th>4</th>\n",
       "      <th>5</th>\n",
       "      <th>6</th>\n",
       "      <th>7</th>\n",
       "      <th>8</th>\n",
       "      <th>9</th>\n",
       "      <th>...</th>\n",
       "      <th>135</th>\n",
       "      <th>136</th>\n",
       "      <th>137</th>\n",
       "      <th>138</th>\n",
       "      <th>139</th>\n",
       "      <th>140</th>\n",
       "      <th>141</th>\n",
       "      <th>142</th>\n",
       "      <th>143</th>\n",
       "      <th>144</th>\n",
       "    </tr>\n",
       "  </thead>\n",
       "  <tbody>\n",
       "    <tr>\n",
       "      <th>(hrs)</th>\n",
       "      <td>0.000</td>\n",
       "      <td>0.500</td>\n",
       "      <td>1.000</td>\n",
       "      <td>1.500</td>\n",
       "      <td>2.000</td>\n",
       "      <td>2.500</td>\n",
       "      <td>3.000</td>\n",
       "      <td>3.500</td>\n",
       "      <td>4.000</td>\n",
       "      <td>4.500</td>\n",
       "      <td>...</td>\n",
       "      <td>67.500</td>\n",
       "      <td>68.0</td>\n",
       "      <td>68.500</td>\n",
       "      <td>69.000</td>\n",
       "      <td>69.500</td>\n",
       "      <td>70.000</td>\n",
       "      <td>70.500</td>\n",
       "      <td>71.000</td>\n",
       "      <td>71.50</td>\n",
       "      <td>72.000</td>\n",
       "    </tr>\n",
       "    <tr>\n",
       "      <th>test1</th>\n",
       "      <td>0.119</td>\n",
       "      <td>0.119</td>\n",
       "      <td>0.124</td>\n",
       "      <td>0.125</td>\n",
       "      <td>0.127</td>\n",
       "      <td>0.129</td>\n",
       "      <td>0.131</td>\n",
       "      <td>0.133</td>\n",
       "      <td>0.136</td>\n",
       "      <td>0.139</td>\n",
       "      <td>...</td>\n",
       "      <td>0.397</td>\n",
       "      <td>0.4</td>\n",
       "      <td>0.402</td>\n",
       "      <td>0.403</td>\n",
       "      <td>0.405</td>\n",
       "      <td>0.407</td>\n",
       "      <td>0.408</td>\n",
       "      <td>0.409</td>\n",
       "      <td>0.41</td>\n",
       "      <td>0.413</td>\n",
       "    </tr>\n",
       "    <tr>\n",
       "      <th>test2</th>\n",
       "      <td>0.238</td>\n",
       "      <td>0.238</td>\n",
       "      <td>0.248</td>\n",
       "      <td>0.250</td>\n",
       "      <td>0.254</td>\n",
       "      <td>0.258</td>\n",
       "      <td>0.262</td>\n",
       "      <td>0.266</td>\n",
       "      <td>0.272</td>\n",
       "      <td>0.278</td>\n",
       "      <td>...</td>\n",
       "      <td>0.794</td>\n",
       "      <td>0.8</td>\n",
       "      <td>0.804</td>\n",
       "      <td>0.806</td>\n",
       "      <td>0.810</td>\n",
       "      <td>0.814</td>\n",
       "      <td>0.816</td>\n",
       "      <td>0.818</td>\n",
       "      <td>0.82</td>\n",
       "      <td>0.826</td>\n",
       "    </tr>\n",
       "    <tr>\n",
       "      <th>test3</th>\n",
       "      <td>0.476</td>\n",
       "      <td>0.476</td>\n",
       "      <td>0.496</td>\n",
       "      <td>0.500</td>\n",
       "      <td>0.508</td>\n",
       "      <td>0.516</td>\n",
       "      <td>0.524</td>\n",
       "      <td>0.532</td>\n",
       "      <td>0.544</td>\n",
       "      <td>0.556</td>\n",
       "      <td>...</td>\n",
       "      <td>1.588</td>\n",
       "      <td>1.6</td>\n",
       "      <td>1.608</td>\n",
       "      <td>1.612</td>\n",
       "      <td>1.620</td>\n",
       "      <td>1.628</td>\n",
       "      <td>1.632</td>\n",
       "      <td>1.636</td>\n",
       "      <td>1.64</td>\n",
       "      <td>1.652</td>\n",
       "    </tr>\n",
       "    <tr>\n",
       "      <th>test4</th>\n",
       "      <td>0.952</td>\n",
       "      <td>0.952</td>\n",
       "      <td>0.992</td>\n",
       "      <td>1.000</td>\n",
       "      <td>1.016</td>\n",
       "      <td>1.032</td>\n",
       "      <td>1.048</td>\n",
       "      <td>1.064</td>\n",
       "      <td>1.088</td>\n",
       "      <td>1.112</td>\n",
       "      <td>...</td>\n",
       "      <td>3.176</td>\n",
       "      <td>3.2</td>\n",
       "      <td>3.216</td>\n",
       "      <td>3.224</td>\n",
       "      <td>3.240</td>\n",
       "      <td>3.256</td>\n",
       "      <td>3.264</td>\n",
       "      <td>3.272</td>\n",
       "      <td>3.28</td>\n",
       "      <td>3.304</td>\n",
       "    </tr>\n",
       "    <tr>\n",
       "      <th>test5</th>\n",
       "      <td>1.904</td>\n",
       "      <td>1.904</td>\n",
       "      <td>1.984</td>\n",
       "      <td>2.000</td>\n",
       "      <td>2.032</td>\n",
       "      <td>2.064</td>\n",
       "      <td>2.096</td>\n",
       "      <td>2.128</td>\n",
       "      <td>2.176</td>\n",
       "      <td>2.224</td>\n",
       "      <td>...</td>\n",
       "      <td>6.352</td>\n",
       "      <td>6.4</td>\n",
       "      <td>6.432</td>\n",
       "      <td>6.448</td>\n",
       "      <td>6.480</td>\n",
       "      <td>6.512</td>\n",
       "      <td>6.528</td>\n",
       "      <td>6.544</td>\n",
       "      <td>6.56</td>\n",
       "      <td>6.608</td>\n",
       "    </tr>\n",
       "    <tr>\n",
       "      <th>test6</th>\n",
       "      <td>3.808</td>\n",
       "      <td>3.808</td>\n",
       "      <td>3.968</td>\n",
       "      <td>4.000</td>\n",
       "      <td>4.064</td>\n",
       "      <td>4.128</td>\n",
       "      <td>4.192</td>\n",
       "      <td>4.256</td>\n",
       "      <td>4.352</td>\n",
       "      <td>4.448</td>\n",
       "      <td>...</td>\n",
       "      <td>12.704</td>\n",
       "      <td>12.8</td>\n",
       "      <td>12.864</td>\n",
       "      <td>12.896</td>\n",
       "      <td>12.960</td>\n",
       "      <td>13.024</td>\n",
       "      <td>13.056</td>\n",
       "      <td>13.088</td>\n",
       "      <td>13.12</td>\n",
       "      <td>13.216</td>\n",
       "    </tr>\n",
       "    <tr>\n",
       "      <th>test7</th>\n",
       "      <td>7.616</td>\n",
       "      <td>7.616</td>\n",
       "      <td>7.936</td>\n",
       "      <td>8.000</td>\n",
       "      <td>8.128</td>\n",
       "      <td>8.256</td>\n",
       "      <td>8.384</td>\n",
       "      <td>8.512</td>\n",
       "      <td>8.704</td>\n",
       "      <td>8.896</td>\n",
       "      <td>...</td>\n",
       "      <td>25.408</td>\n",
       "      <td>25.6</td>\n",
       "      <td>25.728</td>\n",
       "      <td>25.792</td>\n",
       "      <td>25.920</td>\n",
       "      <td>26.048</td>\n",
       "      <td>26.112</td>\n",
       "      <td>26.176</td>\n",
       "      <td>26.24</td>\n",
       "      <td>26.432</td>\n",
       "    </tr>\n",
       "    <tr>\n",
       "      <th>test8</th>\n",
       "      <td>15.232</td>\n",
       "      <td>15.232</td>\n",
       "      <td>15.872</td>\n",
       "      <td>16.000</td>\n",
       "      <td>16.256</td>\n",
       "      <td>16.512</td>\n",
       "      <td>16.768</td>\n",
       "      <td>17.024</td>\n",
       "      <td>17.408</td>\n",
       "      <td>17.792</td>\n",
       "      <td>...</td>\n",
       "      <td>50.816</td>\n",
       "      <td>51.2</td>\n",
       "      <td>51.456</td>\n",
       "      <td>51.584</td>\n",
       "      <td>51.840</td>\n",
       "      <td>52.096</td>\n",
       "      <td>52.224</td>\n",
       "      <td>52.352</td>\n",
       "      <td>52.48</td>\n",
       "      <td>52.864</td>\n",
       "    </tr>\n",
       "    <tr>\n",
       "      <th>test9</th>\n",
       "      <td>30.464</td>\n",
       "      <td>30.464</td>\n",
       "      <td>31.744</td>\n",
       "      <td>32.000</td>\n",
       "      <td>32.512</td>\n",
       "      <td>33.024</td>\n",
       "      <td>33.536</td>\n",
       "      <td>34.048</td>\n",
       "      <td>34.816</td>\n",
       "      <td>35.584</td>\n",
       "      <td>...</td>\n",
       "      <td>101.632</td>\n",
       "      <td>102.4</td>\n",
       "      <td>102.912</td>\n",
       "      <td>103.168</td>\n",
       "      <td>103.680</td>\n",
       "      <td>104.192</td>\n",
       "      <td>104.448</td>\n",
       "      <td>104.704</td>\n",
       "      <td>104.96</td>\n",
       "      <td>105.728</td>\n",
       "    </tr>\n",
       "  </tbody>\n",
       "</table>\n",
       "<p>10 rows × 145 columns</p>\n",
       "</div>"
      ],
      "text/plain": [
       "          0       1       2       3       4       5       6       7       8    \\\n",
       "(hrs)   0.000   0.500   1.000   1.500   2.000   2.500   3.000   3.500   4.000   \n",
       "test1   0.119   0.119   0.124   0.125   0.127   0.129   0.131   0.133   0.136   \n",
       "test2   0.238   0.238   0.248   0.250   0.254   0.258   0.262   0.266   0.272   \n",
       "test3   0.476   0.476   0.496   0.500   0.508   0.516   0.524   0.532   0.544   \n",
       "test4   0.952   0.952   0.992   1.000   1.016   1.032   1.048   1.064   1.088   \n",
       "test5   1.904   1.904   1.984   2.000   2.032   2.064   2.096   2.128   2.176   \n",
       "test6   3.808   3.808   3.968   4.000   4.064   4.128   4.192   4.256   4.352   \n",
       "test7   7.616   7.616   7.936   8.000   8.128   8.256   8.384   8.512   8.704   \n",
       "test8  15.232  15.232  15.872  16.000  16.256  16.512  16.768  17.024  17.408   \n",
       "test9  30.464  30.464  31.744  32.000  32.512  33.024  33.536  34.048  34.816   \n",
       "\n",
       "          9     ...         135    136      137      138      139      140  \\\n",
       "(hrs)   4.500   ...      67.500   68.0   68.500   69.000   69.500   70.000   \n",
       "test1   0.139   ...       0.397    0.4    0.402    0.403    0.405    0.407   \n",
       "test2   0.278   ...       0.794    0.8    0.804    0.806    0.810    0.814   \n",
       "test3   0.556   ...       1.588    1.6    1.608    1.612    1.620    1.628   \n",
       "test4   1.112   ...       3.176    3.2    3.216    3.224    3.240    3.256   \n",
       "test5   2.224   ...       6.352    6.4    6.432    6.448    6.480    6.512   \n",
       "test6   4.448   ...      12.704   12.8   12.864   12.896   12.960   13.024   \n",
       "test7   8.896   ...      25.408   25.6   25.728   25.792   25.920   26.048   \n",
       "test8  17.792   ...      50.816   51.2   51.456   51.584   51.840   52.096   \n",
       "test9  35.584   ...     101.632  102.4  102.912  103.168  103.680  104.192   \n",
       "\n",
       "           141      142     143      144  \n",
       "(hrs)   70.500   71.000   71.50   72.000  \n",
       "test1    0.408    0.409    0.41    0.413  \n",
       "test2    0.816    0.818    0.82    0.826  \n",
       "test3    1.632    1.636    1.64    1.652  \n",
       "test4    3.264    3.272    3.28    3.304  \n",
       "test5    6.528    6.544    6.56    6.608  \n",
       "test6   13.056   13.088   13.12   13.216  \n",
       "test7   26.112   26.176   26.24   26.432  \n",
       "test8   52.224   52.352   52.48   52.864  \n",
       "test9  104.448  104.704  104.96  105.728  \n",
       "\n",
       "[10 rows x 145 columns]"
      ]
     },
     "execution_count": 11,
     "metadata": {},
     "output_type": "execute_result"
    }
   ],
   "source": [
    "plate.T"
   ]
  },
  {
   "cell_type": "code",
   "execution_count": 12,
   "metadata": {},
   "outputs": [
    {
     "data": {
      "text/plain": [
       "145"
      ]
     },
     "execution_count": 12,
     "metadata": {},
     "output_type": "execute_result"
    }
   ],
   "source": [
    "len(plate)"
   ]
  },
  {
   "cell_type": "code",
   "execution_count": 13,
   "metadata": {},
   "outputs": [
    {
     "data": {
      "text/html": [
       "<div>\n",
       "<style>\n",
       "    .dataframe thead tr:only-child th {\n",
       "        text-align: right;\n",
       "    }\n",
       "\n",
       "    .dataframe thead th {\n",
       "        text-align: left;\n",
       "    }\n",
       "\n",
       "    .dataframe tbody tr th {\n",
       "        vertical-align: top;\n",
       "    }\n",
       "</style>\n",
       "<table border=\"1\" class=\"dataframe\">\n",
       "  <thead>\n",
       "    <tr style=\"text-align: right;\">\n",
       "      <th></th>\n",
       "      <th>0</th>\n",
       "      <th>1</th>\n",
       "      <th>2</th>\n",
       "      <th>3</th>\n",
       "      <th>4</th>\n",
       "      <th>5</th>\n",
       "      <th>6</th>\n",
       "      <th>7</th>\n",
       "      <th>8</th>\n",
       "      <th>9</th>\n",
       "      <th>...</th>\n",
       "      <th>135</th>\n",
       "      <th>136</th>\n",
       "      <th>137</th>\n",
       "      <th>138</th>\n",
       "      <th>139</th>\n",
       "      <th>140</th>\n",
       "      <th>141</th>\n",
       "      <th>142</th>\n",
       "      <th>143</th>\n",
       "      <th>144</th>\n",
       "    </tr>\n",
       "  </thead>\n",
       "  <tbody>\n",
       "    <tr>\n",
       "      <th>(hrs)</th>\n",
       "      <td>0.000</td>\n",
       "      <td>0.500</td>\n",
       "      <td>1.000</td>\n",
       "      <td>1.500</td>\n",
       "      <td>2.000</td>\n",
       "      <td>2.500</td>\n",
       "      <td>3.000</td>\n",
       "      <td>3.500</td>\n",
       "      <td>4.000</td>\n",
       "      <td>4.500</td>\n",
       "      <td>...</td>\n",
       "      <td>67.500</td>\n",
       "      <td>68.0</td>\n",
       "      <td>68.500</td>\n",
       "      <td>69.000</td>\n",
       "      <td>69.500</td>\n",
       "      <td>70.000</td>\n",
       "      <td>70.500</td>\n",
       "      <td>71.000</td>\n",
       "      <td>71.50</td>\n",
       "      <td>72.000</td>\n",
       "    </tr>\n",
       "    <tr>\n",
       "      <th>test1</th>\n",
       "      <td>0.119</td>\n",
       "      <td>0.119</td>\n",
       "      <td>0.124</td>\n",
       "      <td>0.125</td>\n",
       "      <td>0.127</td>\n",
       "      <td>0.129</td>\n",
       "      <td>0.131</td>\n",
       "      <td>0.133</td>\n",
       "      <td>0.136</td>\n",
       "      <td>0.139</td>\n",
       "      <td>...</td>\n",
       "      <td>0.397</td>\n",
       "      <td>0.4</td>\n",
       "      <td>0.402</td>\n",
       "      <td>0.403</td>\n",
       "      <td>0.405</td>\n",
       "      <td>0.407</td>\n",
       "      <td>0.408</td>\n",
       "      <td>0.409</td>\n",
       "      <td>0.41</td>\n",
       "      <td>0.413</td>\n",
       "    </tr>\n",
       "    <tr>\n",
       "      <th>test2</th>\n",
       "      <td>0.238</td>\n",
       "      <td>0.238</td>\n",
       "      <td>0.248</td>\n",
       "      <td>0.250</td>\n",
       "      <td>0.254</td>\n",
       "      <td>0.258</td>\n",
       "      <td>0.262</td>\n",
       "      <td>0.266</td>\n",
       "      <td>0.272</td>\n",
       "      <td>0.278</td>\n",
       "      <td>...</td>\n",
       "      <td>0.794</td>\n",
       "      <td>0.8</td>\n",
       "      <td>0.804</td>\n",
       "      <td>0.806</td>\n",
       "      <td>0.810</td>\n",
       "      <td>0.814</td>\n",
       "      <td>0.816</td>\n",
       "      <td>0.818</td>\n",
       "      <td>0.82</td>\n",
       "      <td>0.826</td>\n",
       "    </tr>\n",
       "    <tr>\n",
       "      <th>test3</th>\n",
       "      <td>0.476</td>\n",
       "      <td>0.476</td>\n",
       "      <td>0.496</td>\n",
       "      <td>0.500</td>\n",
       "      <td>0.508</td>\n",
       "      <td>0.516</td>\n",
       "      <td>0.524</td>\n",
       "      <td>0.532</td>\n",
       "      <td>0.544</td>\n",
       "      <td>0.556</td>\n",
       "      <td>...</td>\n",
       "      <td>1.588</td>\n",
       "      <td>1.6</td>\n",
       "      <td>1.608</td>\n",
       "      <td>1.612</td>\n",
       "      <td>1.620</td>\n",
       "      <td>1.628</td>\n",
       "      <td>1.632</td>\n",
       "      <td>1.636</td>\n",
       "      <td>1.64</td>\n",
       "      <td>1.652</td>\n",
       "    </tr>\n",
       "    <tr>\n",
       "      <th>test4</th>\n",
       "      <td>0.952</td>\n",
       "      <td>0.952</td>\n",
       "      <td>0.992</td>\n",
       "      <td>1.000</td>\n",
       "      <td>1.016</td>\n",
       "      <td>1.032</td>\n",
       "      <td>1.048</td>\n",
       "      <td>1.064</td>\n",
       "      <td>1.088</td>\n",
       "      <td>1.112</td>\n",
       "      <td>...</td>\n",
       "      <td>3.176</td>\n",
       "      <td>3.2</td>\n",
       "      <td>3.216</td>\n",
       "      <td>3.224</td>\n",
       "      <td>3.240</td>\n",
       "      <td>3.256</td>\n",
       "      <td>3.264</td>\n",
       "      <td>3.272</td>\n",
       "      <td>3.28</td>\n",
       "      <td>3.304</td>\n",
       "    </tr>\n",
       "    <tr>\n",
       "      <th>test5</th>\n",
       "      <td>1.904</td>\n",
       "      <td>1.904</td>\n",
       "      <td>1.984</td>\n",
       "      <td>2.000</td>\n",
       "      <td>2.032</td>\n",
       "      <td>2.064</td>\n",
       "      <td>2.096</td>\n",
       "      <td>2.128</td>\n",
       "      <td>2.176</td>\n",
       "      <td>2.224</td>\n",
       "      <td>...</td>\n",
       "      <td>6.352</td>\n",
       "      <td>6.4</td>\n",
       "      <td>6.432</td>\n",
       "      <td>6.448</td>\n",
       "      <td>6.480</td>\n",
       "      <td>6.512</td>\n",
       "      <td>6.528</td>\n",
       "      <td>6.544</td>\n",
       "      <td>6.56</td>\n",
       "      <td>6.608</td>\n",
       "    </tr>\n",
       "    <tr>\n",
       "      <th>test6</th>\n",
       "      <td>3.808</td>\n",
       "      <td>3.808</td>\n",
       "      <td>3.968</td>\n",
       "      <td>4.000</td>\n",
       "      <td>4.064</td>\n",
       "      <td>4.128</td>\n",
       "      <td>4.192</td>\n",
       "      <td>4.256</td>\n",
       "      <td>4.352</td>\n",
       "      <td>4.448</td>\n",
       "      <td>...</td>\n",
       "      <td>12.704</td>\n",
       "      <td>12.8</td>\n",
       "      <td>12.864</td>\n",
       "      <td>12.896</td>\n",
       "      <td>12.960</td>\n",
       "      <td>13.024</td>\n",
       "      <td>13.056</td>\n",
       "      <td>13.088</td>\n",
       "      <td>13.12</td>\n",
       "      <td>13.216</td>\n",
       "    </tr>\n",
       "    <tr>\n",
       "      <th>test7</th>\n",
       "      <td>7.616</td>\n",
       "      <td>7.616</td>\n",
       "      <td>7.936</td>\n",
       "      <td>8.000</td>\n",
       "      <td>8.128</td>\n",
       "      <td>8.256</td>\n",
       "      <td>8.384</td>\n",
       "      <td>8.512</td>\n",
       "      <td>8.704</td>\n",
       "      <td>8.896</td>\n",
       "      <td>...</td>\n",
       "      <td>25.408</td>\n",
       "      <td>25.6</td>\n",
       "      <td>25.728</td>\n",
       "      <td>25.792</td>\n",
       "      <td>25.920</td>\n",
       "      <td>26.048</td>\n",
       "      <td>26.112</td>\n",
       "      <td>26.176</td>\n",
       "      <td>26.24</td>\n",
       "      <td>26.432</td>\n",
       "    </tr>\n",
       "    <tr>\n",
       "      <th>test8</th>\n",
       "      <td>15.232</td>\n",
       "      <td>15.232</td>\n",
       "      <td>15.872</td>\n",
       "      <td>16.000</td>\n",
       "      <td>16.256</td>\n",
       "      <td>16.512</td>\n",
       "      <td>16.768</td>\n",
       "      <td>17.024</td>\n",
       "      <td>17.408</td>\n",
       "      <td>17.792</td>\n",
       "      <td>...</td>\n",
       "      <td>50.816</td>\n",
       "      <td>51.2</td>\n",
       "      <td>51.456</td>\n",
       "      <td>51.584</td>\n",
       "      <td>51.840</td>\n",
       "      <td>52.096</td>\n",
       "      <td>52.224</td>\n",
       "      <td>52.352</td>\n",
       "      <td>52.48</td>\n",
       "      <td>52.864</td>\n",
       "    </tr>\n",
       "    <tr>\n",
       "      <th>test9</th>\n",
       "      <td>30.464</td>\n",
       "      <td>30.464</td>\n",
       "      <td>31.744</td>\n",
       "      <td>32.000</td>\n",
       "      <td>32.512</td>\n",
       "      <td>33.024</td>\n",
       "      <td>33.536</td>\n",
       "      <td>34.048</td>\n",
       "      <td>34.816</td>\n",
       "      <td>35.584</td>\n",
       "      <td>...</td>\n",
       "      <td>101.632</td>\n",
       "      <td>102.4</td>\n",
       "      <td>102.912</td>\n",
       "      <td>103.168</td>\n",
       "      <td>103.680</td>\n",
       "      <td>104.192</td>\n",
       "      <td>104.448</td>\n",
       "      <td>104.704</td>\n",
       "      <td>104.96</td>\n",
       "      <td>105.728</td>\n",
       "    </tr>\n",
       "  </tbody>\n",
       "</table>\n",
       "<p>10 rows × 145 columns</p>\n",
       "</div>"
      ],
      "text/plain": [
       "          0       1       2       3       4       5       6       7       8    \\\n",
       "(hrs)   0.000   0.500   1.000   1.500   2.000   2.500   3.000   3.500   4.000   \n",
       "test1   0.119   0.119   0.124   0.125   0.127   0.129   0.131   0.133   0.136   \n",
       "test2   0.238   0.238   0.248   0.250   0.254   0.258   0.262   0.266   0.272   \n",
       "test3   0.476   0.476   0.496   0.500   0.508   0.516   0.524   0.532   0.544   \n",
       "test4   0.952   0.952   0.992   1.000   1.016   1.032   1.048   1.064   1.088   \n",
       "test5   1.904   1.904   1.984   2.000   2.032   2.064   2.096   2.128   2.176   \n",
       "test6   3.808   3.808   3.968   4.000   4.064   4.128   4.192   4.256   4.352   \n",
       "test7   7.616   7.616   7.936   8.000   8.128   8.256   8.384   8.512   8.704   \n",
       "test8  15.232  15.232  15.872  16.000  16.256  16.512  16.768  17.024  17.408   \n",
       "test9  30.464  30.464  31.744  32.000  32.512  33.024  33.536  34.048  34.816   \n",
       "\n",
       "          9     ...         135    136      137      138      139      140  \\\n",
       "(hrs)   4.500   ...      67.500   68.0   68.500   69.000   69.500   70.000   \n",
       "test1   0.139   ...       0.397    0.4    0.402    0.403    0.405    0.407   \n",
       "test2   0.278   ...       0.794    0.8    0.804    0.806    0.810    0.814   \n",
       "test3   0.556   ...       1.588    1.6    1.608    1.612    1.620    1.628   \n",
       "test4   1.112   ...       3.176    3.2    3.216    3.224    3.240    3.256   \n",
       "test5   2.224   ...       6.352    6.4    6.432    6.448    6.480    6.512   \n",
       "test6   4.448   ...      12.704   12.8   12.864   12.896   12.960   13.024   \n",
       "test7   8.896   ...      25.408   25.6   25.728   25.792   25.920   26.048   \n",
       "test8  17.792   ...      50.816   51.2   51.456   51.584   51.840   52.096   \n",
       "test9  35.584   ...     101.632  102.4  102.912  103.168  103.680  104.192   \n",
       "\n",
       "           141      142     143      144  \n",
       "(hrs)   70.500   71.000   71.50   72.000  \n",
       "test1    0.408    0.409    0.41    0.413  \n",
       "test2    0.816    0.818    0.82    0.826  \n",
       "test3    1.632    1.636    1.64    1.652  \n",
       "test4    3.264    3.272    3.28    3.304  \n",
       "test5    6.528    6.544    6.56    6.608  \n",
       "test6   13.056   13.088   13.12   13.216  \n",
       "test7   26.112   26.176   26.24   26.432  \n",
       "test8   52.224   52.352   52.48   52.864  \n",
       "test9  104.448  104.704  104.96  105.728  \n",
       "\n",
       "[10 rows x 145 columns]"
      ]
     },
     "execution_count": 13,
     "metadata": {},
     "output_type": "execute_result"
    }
   ],
   "source": [
    "plate.T"
   ]
  },
  {
   "cell_type": "code",
   "execution_count": 14,
   "metadata": {},
   "outputs": [
    {
     "name": "stderr",
     "output_type": "stream",
     "text": [
      "/Users/croth/anaconda2/lib/python2.7/site-packages/ipykernel_launcher.py:1: DeprecationWarning: \n",
      ".ix is deprecated. Please use\n",
      ".loc for label based indexing or\n",
      ".iloc for positional indexing\n",
      "\n",
      "See the documentation here:\n",
      "http://pandas.pydata.org/pandas-docs/stable/indexing.html#ix-indexer-is-deprecated\n",
      "  \"\"\"Entry point for launching an IPython kernel.\n"
     ]
    },
    {
     "data": {
      "image/png": "[encoded data removed]",
      "text/plain": [
       "<matplotlib.figure.Figure at 0x1507f1f750>"
      ]
     },
     "metadata": {},
     "output_type": "display_data"
    }
   ],
   "source": [
    "plate.ix[:,1:].plot();\n",
    "plt.xlabel('time (mins)')\n",
    "plt.ylabel('OD (a.u.)');"
   ]
  },
  {
   "cell_type": "markdown",
   "metadata": {},
   "source": [
    "### 4.3.1\n",
    "##### What column (or row) in the dataframe above contains the time points, what units are these time points in, and how many are there?\n",
    "### 4.3.2\n",
    "##### What information does the function len() give you? Try typing in ?len() in a cell\n",
    "### 4.3.3\n",
    "##### Using the len() or .shape() functions how many test samples (not time points) are in the data?"
   ]
  },
  {
   "cell_type": "markdown",
   "metadata": {
    "nbpresent": {
     "id": "185294fc-5067-44bb-99c7-270e84a14306"
    }
   },
   "source": [
    "# 5 Analysis of test data"
   ]
  },
  {
   "cell_type": "markdown",
   "metadata": {},
   "source": [
    "## 5.1 Baseline data\n",
    "### The first time point is often subtracted to account for the differences in the initial inoculation. We can correct for the initial culture size by subtracting this value."
   ]
  },
  {
   "cell_type": "code",
   "execution_count": 15,
   "metadata": {},
   "outputs": [
    {
     "name": "stdout",
     "output_type": "stream",
     "text": [
      "Hello Cullen, you are so cool\n"
     ]
    }
   ],
   "source": [
    "print(\"Hello Cullen, you are so cool\")"
   ]
  },
  {
   "cell_type": "code",
   "execution_count": 16,
   "metadata": {
    "collapsed": true
   },
   "outputs": [],
   "source": [
    "sample = 'test1' ## Set the sample for analysis\n",
    "ydata = plate[sample].values ## Take the sample values out of the dataframe and convert to an array\n",
    "ydata = ydata - ydata[0] ## Subtract the initial values \n",
    "xdata = plate['(hrs)'].values ## Collect time points"
   ]
  },
  {
   "cell_type": "markdown",
   "metadata": {},
   "source": [
    "## 5.2 Utilize the curve_fit function to fit growth models to our data"
   ]
  },
  {
   "cell_type": "markdown",
   "metadata": {},
   "source": [
    "### 5.2.1\n",
    "##### What does curve_fit do (you can check by typing in ?curve_fit in a cell)?"
   ]
  },
  {
   "cell_type": "markdown",
   "metadata": {},
   "source": [
    "#### The function curve_fit is not perfect. It can have trouble dealing with small values like ours. To avoid overflow errors we can scale our values between zero and one by normilizing via the maximum and re-scaling our parameters after fitting curves."
   ]
  },
  {
   "cell_type": "code",
   "execution_count": 17,
   "metadata": {
    "collapsed": true
   },
   "outputs": [],
   "source": [
    "?curve_fit"
   ]
  },
  {
   "cell_type": "code",
   "execution_count": 18,
   "metadata": {},
   "outputs": [
    {
     "name": "stdout",
     "output_type": "stream",
     "text": [
      "[ 0.25038251  0.01411622  4.27894425]\n",
      "[ 0.24668925  0.01498787  5.18283644]\n"
     ]
    }
   ],
   "source": [
    "scale = max(ydata) ## Collect the max y-value for this sample\n",
    "popt_gom, pcov_gom = curve_fit(gompertz, xdata, ydata/scale); ## Here we are deviding the y-values by the maximum\n",
    "popt_gom[:2] = popt_gom[:2] * scale ## We need to rescale the carrying capacity and maximum growth rate (but not lag)\n",
    "print popt_gom\n",
    "popt_log, n = curve_fit(logistic, xdata, ydata/scale); ## Here we are deviding the y-values by the maximum\n",
    "popt_log[:2] = popt_log[:2] * scale ## We need to rescale the carrying capacity and maximum growth rate (but not lag)\n",
    "print popt_log"
   ]
  },
  {
   "cell_type": "markdown",
   "metadata": {},
   "source": [
    "## 5.3 Calculate the approximation from our curve fitting"
   ]
  },
  {
   "cell_type": "code",
   "execution_count": 19,
   "metadata": {
    "collapsed": true,
    "nbpresent": {
     "id": "4944b4b6-3210-4158-ad05-2771673c967a"
    }
   },
   "outputs": [],
   "source": [
    "yhat_gom = gompertz(xdata,*popt_gom) ## here we are putting into gompertz the values from popt_gom\n",
    "yhat_log = logistic(xdata,*popt_gom) ## here we are putting into gompertz the values from popt_gom"
   ]
  },
  {
   "cell_type": "code",
   "execution_count": null,
   "metadata": {
    "collapsed": true
   },
   "outputs": [],
   "source": []
  },
  {
   "cell_type": "markdown",
   "metadata": {},
   "source": [
    "### 5.3.1\n",
    "##### What does the \"*\" symbol do to the variable popt_gom?"
   ]
  },
  {
   "cell_type": "markdown",
   "metadata": {},
   "source": [
    "## 5.4 Calculate the coefficient of determenation"
   ]
  },
  {
   "cell_type": "code",
   "execution_count": 20,
   "metadata": {},
   "outputs": [
    {
     "name": "stdout",
     "output_type": "stream",
     "text": [
      "R2 Gompertz: 0.966\n"
     ]
    }
   ],
   "source": [
    "print \"R2 Gompertz:\", round(r_squared(ydata,yhat_gom),3)"
   ]
  },
  {
   "cell_type": "markdown",
   "metadata": {},
   "source": [
    "## 5.5 Plot our data and fit"
   ]
  },
  {
   "cell_type": "code",
   "execution_count": 26,
   "metadata": {},
   "outputs": [],
   "source": [
    "samplenames = plate.columns.tolist()[1:]"
   ]
  },
  {
   "cell_type": "code",
   "execution_count": 31,
   "metadata": {},
   "outputs": [],
   "source": [
    "def my_curve_fit_ftn(xdata,ydata_all,sample,ftn):\n",
    "    ydata = ydata_all[sample] ## were ydata_all has all the ydata :D\n",
    "    scale = max(ydata) ## Collect the max y-value for this sample\n",
    "    popt_gom, pcov_gom = curve_fit(ftn, xdata, ydata/scale); ## Here we are deviding the y-values by the maximum\n",
    "    popt_gom[:2] = popt_gom[:2] * scale\n",
    "    return popt_gom"
   ]
  },
  {
   "cell_type": "code",
   "execution_count": null,
   "metadata": {
    "collapsed": true
   },
   "outputs": [],
   "source": []
  },
  {
   "cell_type": "code",
   "execution_count": 38,
   "metadata": {},
   "outputs": [
    {
     "data": {
      "text/html": [
       "<div>\n",
       "<style>\n",
       "    .dataframe thead tr:only-child th {\n",
       "        text-align: right;\n",
       "    }\n",
       "\n",
       "    .dataframe thead th {\n",
       "        text-align: left;\n",
       "    }\n",
       "\n",
       "    .dataframe tbody tr th {\n",
       "        vertical-align: top;\n",
       "    }\n",
       "</style>\n",
       "<table border=\"1\" class=\"dataframe\">\n",
       "  <thead>\n",
       "    <tr style=\"text-align: right;\">\n",
       "      <th></th>\n",
       "      <th>(hrs)</th>\n",
       "      <th>test1</th>\n",
       "      <th>test2</th>\n",
       "      <th>test3</th>\n",
       "      <th>test4</th>\n",
       "      <th>test5</th>\n",
       "      <th>test6</th>\n",
       "      <th>test7</th>\n",
       "      <th>test8</th>\n",
       "      <th>test9</th>\n",
       "    </tr>\n",
       "  </thead>\n",
       "  <tbody>\n",
       "    <tr>\n",
       "      <th>0</th>\n",
       "      <td>0.0</td>\n",
       "      <td>0.119</td>\n",
       "      <td>0.238</td>\n",
       "      <td>0.476</td>\n",
       "      <td>0.952</td>\n",
       "      <td>1.904</td>\n",
       "      <td>3.808</td>\n",
       "      <td>7.616</td>\n",
       "      <td>15.232</td>\n",
       "      <td>30.464</td>\n",
       "    </tr>\n",
       "    <tr>\n",
       "      <th>1</th>\n",
       "      <td>0.5</td>\n",
       "      <td>0.119</td>\n",
       "      <td>0.238</td>\n",
       "      <td>0.476</td>\n",
       "      <td>0.952</td>\n",
       "      <td>1.904</td>\n",
       "      <td>3.808</td>\n",
       "      <td>7.616</td>\n",
       "      <td>15.232</td>\n",
       "      <td>30.464</td>\n",
       "    </tr>\n",
       "    <tr>\n",
       "      <th>2</th>\n",
       "      <td>1.0</td>\n",
       "      <td>0.124</td>\n",
       "      <td>0.248</td>\n",
       "      <td>0.496</td>\n",
       "      <td>0.992</td>\n",
       "      <td>1.984</td>\n",
       "      <td>3.968</td>\n",
       "      <td>7.936</td>\n",
       "      <td>15.872</td>\n",
       "      <td>31.744</td>\n",
       "    </tr>\n",
       "    <tr>\n",
       "      <th>3</th>\n",
       "      <td>1.5</td>\n",
       "      <td>0.125</td>\n",
       "      <td>0.250</td>\n",
       "      <td>0.500</td>\n",
       "      <td>1.000</td>\n",
       "      <td>2.000</td>\n",
       "      <td>4.000</td>\n",
       "      <td>8.000</td>\n",
       "      <td>16.000</td>\n",
       "      <td>32.000</td>\n",
       "    </tr>\n",
       "    <tr>\n",
       "      <th>4</th>\n",
       "      <td>2.0</td>\n",
       "      <td>0.127</td>\n",
       "      <td>0.254</td>\n",
       "      <td>0.508</td>\n",
       "      <td>1.016</td>\n",
       "      <td>2.032</td>\n",
       "      <td>4.064</td>\n",
       "      <td>8.128</td>\n",
       "      <td>16.256</td>\n",
       "      <td>32.512</td>\n",
       "    </tr>\n",
       "  </tbody>\n",
       "</table>\n",
       "</div>"
      ],
      "text/plain": [
       "   (hrs)  test1  test2  test3  test4  test5  test6  test7   test8   test9\n",
       "0    0.0  0.119  0.238  0.476  0.952  1.904  3.808  7.616  15.232  30.464\n",
       "1    0.5  0.119  0.238  0.476  0.952  1.904  3.808  7.616  15.232  30.464\n",
       "2    1.0  0.124  0.248  0.496  0.992  1.984  3.968  7.936  15.872  31.744\n",
       "3    1.5  0.125  0.250  0.500  1.000  2.000  4.000  8.000  16.000  32.000\n",
       "4    2.0  0.127  0.254  0.508  1.016  2.032  4.064  8.128  16.256  32.512"
      ]
     },
     "execution_count": 38,
     "metadata": {},
     "output_type": "execute_result"
    }
   ],
   "source": [
    "plate.head()"
   ]
  },
  {
   "cell_type": "code",
   "execution_count": 37,
   "metadata": {},
   "outputs": [
    {
     "data": {
      "text/plain": [
       "[u'test1',\n",
       " u'test2',\n",
       " u'test3',\n",
       " u'test4',\n",
       " u'test5',\n",
       " u'test6',\n",
       " u'test7',\n",
       " u'test8',\n",
       " u'test9']"
      ]
     },
     "execution_count": 37,
     "metadata": {},
     "output_type": "execute_result"
    }
   ],
   "source": [
    "samplenames"
   ]
  },
  {
   "cell_type": "code",
   "execution_count": 39,
   "metadata": {
    "collapsed": true
   },
   "outputs": [],
   "source": [
    "samplenames = plate.columns.tolist()[1:]\n",
    "my_time = plate['(hrs)'].values"
   ]
  },
  {
   "cell_type": "code",
   "execution_count": 40,
   "metadata": {
    "collapsed": true
   },
   "outputs": [],
   "source": [
    "?gompertz"
   ]
  },
  {
   "cell_type": "code",
   "execution_count": 45,
   "metadata": {
    "collapsed": true
   },
   "outputs": [],
   "source": [
    "my_str = 100.0"
   ]
  },
  {
   "cell_type": "code",
   "execution_count": 53,
   "metadata": {},
   "outputs": [
    {
     "name": "stdout",
     "output_type": "stream",
     "text": [
      "[ 0.37708117  0.01323291 -6.45476489]\n",
      "[ 0.75416235  0.02646581 -6.45476489]\n",
      "[ 1.50832469  0.05293163 -6.45476489]\n",
      "[ 3.01664938  0.10586326 -6.45476489]\n",
      "[ 6.03329877  0.21172651 -6.45476489]\n",
      "[ 12.06659753   0.42345303  -6.45476489]\n",
      "[ 24.13319506   0.84690605  -6.45476489]\n",
      "[ 48.26639013   1.69381211  -6.45476489]\n",
      "[ 96.53278025   3.38762421  -6.45476489]\n"
     ]
    }
   ],
   "source": [
    "yhats_gom = []\n",
    "for name in samplenames:\n",
    "    popt_gom = my_curve_fit_ftn(my_time,plate,name,gompertz)\n",
    "    yhat = gompertz(my_time,*popt_gom)\n",
    "    yhats_gom.append(yhat)\n",
    "    print popt_gom"
   ]
  },
  {
   "cell_type": "code",
   "execution_count": 55,
   "metadata": {},
   "outputs": [
    {
     "data": {
      "text/plain": [
       "[u'test1',\n",
       " u'test2',\n",
       " u'test3',\n",
       " u'test4',\n",
       " u'test5',\n",
       " u'test6',\n",
       " u'test7',\n",
       " u'test8',\n",
       " u'test9']"
      ]
     },
     "execution_count": 55,
     "metadata": {},
     "output_type": "execute_result"
    }
   ],
   "source": [
    "samplenames"
   ]
  },
  {
   "cell_type": "code",
   "execution_count": 57,
   "metadata": {},
   "outputs": [
    {
     "name": "stdout",
     "output_type": "stream",
     "text": [
      "(u'test1', 0)\n",
      "(u'test2', 1)\n",
      "(u'test3', 2)\n",
      "(u'test4', 3)\n",
      "(u'test5', 4)\n",
      "(u'test6', 5)\n",
      "(u'test7', 6)\n",
      "(u'test8', 7)\n",
      "(u'test9', 8)\n"
     ]
    },
    {
     "data": {
      "image/png": "[encoded data removed]",
      "text/plain": [
       "<matplotlib.figure.Figure at 0x1510371850>"
      ]
     },
     "metadata": {},
     "output_type": "display_data"
    }
   ],
   "source": [
    "fig, ax = plt.subplots(3,3,figsize=(6,3),sharey='all',sharex='all')\n",
    "c = 0\n",
    "for name in samplenames:\n",
    "    print(name,c)\n",
    "    plt.sca(ax.ravel()[c])\n",
    "    plt.plot(plate['(hrs)'],plate[name],color='r',marker = '.',linestyle= ' ');\n",
    "    plt.plot(my_time,yhats_gom[c],'b-');\n",
    "    c = c + 1"
   ]
  },
  {
   "cell_type": "code",
   "execution_count": 22,
   "metadata": {
    "nbpresent": {
     "id": "a8e4a1cd-01a5-4289-a79a-049d8a5ecdcc"
    },
    "slideshow": {
     "slide_type": "slide"
    }
   },
   "outputs": [
    {
     "data": {
      "image/png": "[encoded data removed]",
      "text/plain": [
       "<matplotlib.figure.Figure at 0x151002d650>"
      ]
     },
     "metadata": {},
     "output_type": "display_data"
    }
   ],
   "source": [
    "\n",
    "plt.plot(xdata, ydata, '.k', label='Data',alpha=.5); ## Plot sample data\n",
    "plt.plot(xdata, yhat_gom,'-g', label='Gompertz',alpha=.9); ## Plot growth model\n",
    "plt.plot(xdata, yhat_log,'-r', label='Logistics',alpha=.9); ## Plot growth model\n",
    "plt.annotate(\"u: \" + str(round(popt_gom[1],3)),(20,.15)); ## Add in text with the calculated parameters (u)\n",
    "plt.annotate(\"A: \" + str(round(popt_gom[0],3)),(xdata[-10],popt_gom[0]+.01)); ## ... for A\n",
    "plt.annotate(\"l: \" + str(round(popt_gom[-1],3)),(popt_gom[-1],0)); ## ... for l \n",
    "plt.ylabel('Optical Density\\n( a.u. )',fontsize=14); ## Add titles, legends, and labels \n",
    "plt.xlabel('Time \\n( hrs )',fontsize=14); ## Add x axis label\n",
    "plt.title('Gompertz Fit & Test Data',fontsize=16); ## Add y axis label\n",
    "plt.legend(loc='lower right'); ## Place the legend in lower right corner\n",
    "plt.tight_layout(); ## This makes everything pretty\n",
    "plt.savefig('Fit_to_growth.jpeg'); ## This will save the figure"
   ]
  },
  {
   "cell_type": "markdown",
   "metadata": {},
   "source": [
    "### 5.5.1\n",
    "##### What about the other samples in the data set; can you run our analysis and plot more than one sample on a figure or sub-figures? \n",
    "Hint: check out plt.subplots()\n",
    "### 5.5.2\n",
    "##### Explore the other models introduced in class and written above, for a given sample do we see differences in the estimated parameters from different models?\n",
    "### 5.5.3\n",
    "##### From the question above, for a given sample, plot on the same figure the gompertz and logistic growth models."
   ]
  },
  {
   "cell_type": "code",
   "execution_count": null,
   "metadata": {
    "collapsed": true
   },
   "outputs": [],
   "source": []
  }
 ],
 "metadata": {
  "anaconda-cloud": {},
  "kernelspec": {
   "display_name": "Python 2",
   "language": "python",
   "name": "python2"
  },
  "language_info": {
   "codemirror_mode": {
    "name": "ipython",
    "version": 2
   },
   "file_extension": ".py",
   "mimetype": "text/x-python",
   "name": "python",
   "nbconvert_exporter": "python",
   "pygments_lexer": "ipython2",
   "version": "2.7.14"
  },
  "nbpresent": {
   "slides": {
    "04a8ef55-cb2b-40ad-9cbf-d4c15360b582": {
     "id": "04a8ef55-cb2b-40ad-9cbf-d4c15360b582",
     "prev": "20cca71b-72ac-4d25-a903-f169693356c3",
     "regions": {
      "081ffe39-a147-4498-824b-367ee1d9a66d": {
       "attrs": {
        "height": 0.8,
        "width": 0.8,
        "x": 0.1,
        "y": 0.1
       },
       "content": {
        "cell": "365b63cf-8c3f-40f2-a846-2d7171ee80d4",
        "part": "whole"
       },
       "id": "081ffe39-a147-4498-824b-367ee1d9a66d"
      }
     }
    },
    "056ef257-36c5-41f0-997a-1be11216384c": {
     "id": "056ef257-36c5-41f0-997a-1be11216384c",
     "prev": "a95430c6-5601-4eff-a6cb-b779b716cb3e",
     "regions": {
      "f2eca3c3-844f-4754-af51-310829110db9": {
       "attrs": {
        "height": 0.8,
        "width": 0.8,
        "x": 0.1,
        "y": 0.1
       },
       "content": {
        "cell": "23013f33-52ed-4efb-bd15-448283e20512",
        "part": "whole"
       },
       "id": "f2eca3c3-844f-4754-af51-310829110db9"
      }
     }
    },
    "13b2994e-7cec-4790-bf2e-6ce2c0bca77c": {
     "id": "13b2994e-7cec-4790-bf2e-6ce2c0bca77c",
     "prev": "da2dc6cc-4ec7-44a5-b9ff-c66d035bf65f",
     "regions": {
      "335bc144-d6aa-40ea-a9b1-d98fae56e847": {
       "attrs": {
        "height": 0.8,
        "width": 0.8,
        "x": 0.1,
        "y": 0.1
       },
       "content": {
        "cell": "60450a2f-4cf5-41fc-9798-bce4fb572da4",
        "part": "whole"
       },
       "id": "335bc144-d6aa-40ea-a9b1-d98fae56e847"
      }
     }
    },
    "20cca71b-72ac-4d25-a903-f169693356c3": {
     "id": "20cca71b-72ac-4d25-a903-f169693356c3",
     "prev": "3bf774b1-51f4-4471-a19c-fd581e8a6d23",
     "regions": {
      "2e7804ba-031b-4242-8c4c-a71f011dcf16": {
       "attrs": {
        "height": 0.8,
        "width": 0.8,
        "x": 0.1,
        "y": 0.1
       },
       "content": {
        "cell": "b0ee5a23-194d-43da-8995-a6d4c184d4be",
        "part": "whole"
       },
       "id": "2e7804ba-031b-4242-8c4c-a71f011dcf16"
      }
     }
    },
    "20ec2374-211c-4660-923b-ec47c400f51a": {
     "id": "20ec2374-211c-4660-923b-ec47c400f51a",
     "prev": "056ef257-36c5-41f0-997a-1be11216384c",
     "regions": {
      "6fa4d112-56b8-4e98-8478-7dabd894540b": {
       "attrs": {
        "height": 0.8,
        "width": 0.8,
        "x": 0.1,
        "y": 0.1
       },
       "content": {
        "cell": "f4b14b77-81c1-4f36-aa3c-48ff1b65f8e0",
        "part": "whole"
       },
       "id": "6fa4d112-56b8-4e98-8478-7dabd894540b"
      }
     }
    },
    "3bf774b1-51f4-4471-a19c-fd581e8a6d23": {
     "id": "3bf774b1-51f4-4471-a19c-fd581e8a6d23",
     "prev": "bbdf5f5e-0e81-4729-b655-cf9733209c5b",
     "regions": {
      "e34edd1a-d9e0-4e75-bae1-e83b1bdc4278": {
       "attrs": {
        "height": 0.8,
        "width": 0.8,
        "x": 0.1,
        "y": 0.1
       },
       "content": {
        "cell": "65c5efea-c8cc-4a62-b31a-b353c06ff887",
        "part": "whole"
       },
       "id": "e34edd1a-d9e0-4e75-bae1-e83b1bdc4278"
      }
     }
    },
    "40321d0c-bb0c-4e04-91ce-104ad94be804": {
     "id": "40321d0c-bb0c-4e04-91ce-104ad94be804",
     "prev": "73ca7296-dab0-4b96-93c3-db23fffc88b2",
     "regions": {
      "39626d59-7419-435f-83fb-4e2264f562a5": {
       "attrs": {
        "height": 0.8,
        "width": 0.8,
        "x": 0.1,
        "y": 0.1
       },
       "content": {
        "cell": "eb73388c-dc74-4434-9285-0276c8a5008e",
        "part": "whole"
       },
       "id": "39626d59-7419-435f-83fb-4e2264f562a5"
      }
     }
    },
    "43ff5f57-2c28-426b-9e0a-b7dfb8cd10e7": {
     "id": "43ff5f57-2c28-426b-9e0a-b7dfb8cd10e7",
     "prev": "04a8ef55-cb2b-40ad-9cbf-d4c15360b582",
     "regions": {
      "945bb407-635a-47a1-bba3-88dcaa73abce": {
       "attrs": {
        "height": 0.8,
        "width": 0.8,
        "x": 0.1,
        "y": 0.1
       },
       "content": {
        "cell": "5fbe74e0-2b1b-417e-bb14-5add60dfaf29",
        "part": "whole"
       },
       "id": "945bb407-635a-47a1-bba3-88dcaa73abce"
      }
     }
    },
    "4932b665-95fc-4987-9603-db7dc8942589": {
     "id": "4932b665-95fc-4987-9603-db7dc8942589",
     "prev": "40321d0c-bb0c-4e04-91ce-104ad94be804",
     "regions": {
      "905ccd9f-6d14-4a73-95e0-92ad6654dbe9": {
       "attrs": {
        "height": 0.8,
        "width": 0.8,
        "x": 0.1,
        "y": 0.1
       },
       "content": {
        "cell": "4944b4b6-3210-4158-ad05-2771673c967a",
        "part": "whole"
       },
       "id": "905ccd9f-6d14-4a73-95e0-92ad6654dbe9"
      }
     }
    },
    "60442b2d-3f9a-4cc9-b240-ff2b08d3b10b": {
     "id": "60442b2d-3f9a-4cc9-b240-ff2b08d3b10b",
     "prev": "20ec2374-211c-4660-923b-ec47c400f51a",
     "regions": {
      "0a1154ec-d36b-4b77-bd7a-1d7939b14f6f": {
       "attrs": {
        "height": 0.8,
        "width": 0.8,
        "x": 0.1,
        "y": 0.1
       },
       "content": {
        "cell": "7c25973b-0557-4069-b332-e15f12ee6955",
        "part": "whole"
       },
       "id": "0a1154ec-d36b-4b77-bd7a-1d7939b14f6f"
      }
     }
    },
    "69a2db50-fd37-428c-83f4-432e26cfbabd": {
     "id": "69a2db50-fd37-428c-83f4-432e26cfbabd",
     "prev": "13b2994e-7cec-4790-bf2e-6ce2c0bca77c",
     "regions": {
      "004bd45f-8b3e-4639-bfb1-91fbb594c2df": {
       "attrs": {
        "height": 0.8,
        "width": 0.8,
        "x": 0.1,
        "y": 0.1
       },
       "content": {
        "cell": "2542ce77-5045-4a38-83ca-1e42c1305a9a",
        "part": "whole"
       },
       "id": "004bd45f-8b3e-4639-bfb1-91fbb594c2df"
      }
     }
    },
    "73ca7296-dab0-4b96-93c3-db23fffc88b2": {
     "id": "73ca7296-dab0-4b96-93c3-db23fffc88b2",
     "prev": "43ff5f57-2c28-426b-9e0a-b7dfb8cd10e7",
     "regions": {
      "e364f12c-644b-4396-894a-99d15f0e1110": {
       "attrs": {
        "height": 0.8,
        "width": 0.8,
        "x": 0.1,
        "y": 0.1
       },
       "content": {
        "cell": "92521715-b4a5-4408-a924-64501222417f",
        "part": "whole"
       },
       "id": "e364f12c-644b-4396-894a-99d15f0e1110"
      }
     }
    },
    "a95430c6-5601-4eff-a6cb-b779b716cb3e": {
     "id": "a95430c6-5601-4eff-a6cb-b779b716cb3e",
     "prev": "69a2db50-fd37-428c-83f4-432e26cfbabd",
     "regions": {
      "402678a5-1ea0-4564-bf64-66078767cd2c": {
       "attrs": {
        "height": 0.8,
        "width": 0.8,
        "x": 0.1,
        "y": 0.1
       },
       "content": null,
       "id": "402678a5-1ea0-4564-bf64-66078767cd2c"
      }
     }
    },
    "bbdf5f5e-0e81-4729-b655-cf9733209c5b": {
     "id": "bbdf5f5e-0e81-4729-b655-cf9733209c5b",
     "prev": null,
     "regions": {
      "2c031084-6275-42e2-924d-55090ec0bcb6": {
       "attrs": {
        "height": 0.8,
        "width": 0.8,
        "x": 0.1,
        "y": 0.1
       },
       "content": {
        "cell": "55ca9868-afad-4f5a-bb3d-962969032bc1",
        "part": "whole"
       },
       "id": "2c031084-6275-42e2-924d-55090ec0bcb6"
      }
     }
    },
    "da2dc6cc-4ec7-44a5-b9ff-c66d035bf65f": {
     "id": "da2dc6cc-4ec7-44a5-b9ff-c66d035bf65f",
     "prev": "4932b665-95fc-4987-9603-db7dc8942589",
     "regions": {
      "184b699d-2d42-46bf-b58f-50f5a8e3883e": {
       "attrs": {
        "height": 0.8,
        "width": 0.8,
        "x": 0.1,
        "y": 0.1
       },
       "content": {
        "cell": "a8e4a1cd-01a5-4289-a79a-049d8a5ecdcc",
        "part": "whole"
       },
       "id": "184b699d-2d42-46bf-b58f-50f5a8e3883e"
      }
     }
    }
   },
   "themes": {}
  }
 },
 "nbformat": 4,
 "nbformat_minor": 1
}
